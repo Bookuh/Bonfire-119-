{
 "cells": [
  {
   "attachments": {},
   "cell_type": "markdown",
   "metadata": {},
   "source": [
    "#### Imports "
   ]
  },
  {
   "cell_type": "code",
   "execution_count": 1,
   "metadata": {},
   "outputs": [],
   "source": [
    "import spotipy\n",
    "from spotipy.oauth2 import SpotifyOAuth\n",
    "import plotly_express as px\n",
    "import pandas as pd"
   ]
  },
  {
   "attachments": {},
   "cell_type": "markdown",
   "metadata": {},
   "source": [
    "#### Dataframes of my liked songs and their audio features"
   ]
  },
  {
   "cell_type": "code",
   "execution_count": 19,
   "metadata": {},
   "outputs": [
    {
     "data": {
      "text/html": [
       "<div>\n",
       "<style scoped>\n",
       "    .dataframe tbody tr th:only-of-type {\n",
       "        vertical-align: middle;\n",
       "    }\n",
       "\n",
       "    .dataframe tbody tr th {\n",
       "        vertical-align: top;\n",
       "    }\n",
       "\n",
       "    .dataframe thead th {\n",
       "        text-align: right;\n",
       "    }\n",
       "</style>\n",
       "<table border=\"1\" class=\"dataframe\">\n",
       "  <thead>\n",
       "    <tr style=\"text-align: right;\">\n",
       "      <th></th>\n",
       "      <th>song_name</th>\n",
       "      <th>artist</th>\n",
       "      <th>energy</th>\n",
       "      <th>loudness</th>\n",
       "    </tr>\n",
       "  </thead>\n",
       "  <tbody>\n",
       "    <tr>\n",
       "      <th>0</th>\n",
       "      <td>Motiv8</td>\n",
       "      <td>J. Cole</td>\n",
       "      <td>0.385</td>\n",
       "      <td>-7.801</td>\n",
       "    </tr>\n",
       "    <tr>\n",
       "      <th>1</th>\n",
       "      <td>Try Me</td>\n",
       "      <td>The Weeknd</td>\n",
       "      <td>0.665</td>\n",
       "      <td>-5.748</td>\n",
       "    </tr>\n",
       "    <tr>\n",
       "      <th>2</th>\n",
       "      <td>ULT</td>\n",
       "      <td>Denzel Curry</td>\n",
       "      <td>0.786</td>\n",
       "      <td>-5.337</td>\n",
       "    </tr>\n",
       "    <tr>\n",
       "      <th>3</th>\n",
       "      <td>SAD!</td>\n",
       "      <td>XXXTENTACION</td>\n",
       "      <td>0.613</td>\n",
       "      <td>-4.880</td>\n",
       "    </tr>\n",
       "    <tr>\n",
       "      <th>4</th>\n",
       "      <td>Call Out My Name</td>\n",
       "      <td>The Weeknd</td>\n",
       "      <td>0.598</td>\n",
       "      <td>-4.929</td>\n",
       "    </tr>\n",
       "    <tr>\n",
       "      <th>5</th>\n",
       "      <td>Wasted Times</td>\n",
       "      <td>The Weeknd</td>\n",
       "      <td>0.674</td>\n",
       "      <td>-6.049</td>\n",
       "    </tr>\n",
       "    <tr>\n",
       "      <th>6</th>\n",
       "      <td>Hurt You</td>\n",
       "      <td>The Weeknd</td>\n",
       "      <td>0.716</td>\n",
       "      <td>-7.193</td>\n",
       "    </tr>\n",
       "    <tr>\n",
       "      <th>7</th>\n",
       "      <td>Icon</td>\n",
       "      <td>Jaden</td>\n",
       "      <td>0.820</td>\n",
       "      <td>-5.093</td>\n",
       "    </tr>\n",
       "    <tr>\n",
       "      <th>8</th>\n",
       "      <td>Nice For What</td>\n",
       "      <td>Drake</td>\n",
       "      <td>0.913</td>\n",
       "      <td>-6.471</td>\n",
       "    </tr>\n",
       "    <tr>\n",
       "      <th>9</th>\n",
       "      <td>everybody dies</td>\n",
       "      <td>J. Cole</td>\n",
       "      <td>0.694</td>\n",
       "      <td>-9.376</td>\n",
       "    </tr>\n",
       "    <tr>\n",
       "      <th>10</th>\n",
       "      <td>Enemy</td>\n",
       "      <td>XO</td>\n",
       "      <td>0.554</td>\n",
       "      <td>-6.022</td>\n",
       "    </tr>\n",
       "    <tr>\n",
       "      <th>11</th>\n",
       "      <td>Im Good</td>\n",
       "      <td>XO</td>\n",
       "      <td>0.573</td>\n",
       "      <td>-6.693</td>\n",
       "    </tr>\n",
       "    <tr>\n",
       "      <th>12</th>\n",
       "      <td>Gimme the Loot - 2005 Remaster</td>\n",
       "      <td>The Notorious B.I.G.</td>\n",
       "      <td>0.662</td>\n",
       "      <td>-8.136</td>\n",
       "    </tr>\n",
       "    <tr>\n",
       "      <th>13</th>\n",
       "      <td>Diplomatic Immunity</td>\n",
       "      <td>Drake</td>\n",
       "      <td>0.839</td>\n",
       "      <td>-5.076</td>\n",
       "    </tr>\n",
       "    <tr>\n",
       "      <th>14</th>\n",
       "      <td>wonderful</td>\n",
       "      <td>Travis Scott</td>\n",
       "      <td>0.569</td>\n",
       "      <td>-5.591</td>\n",
       "    </tr>\n",
       "    <tr>\n",
       "      <th>15</th>\n",
       "      <td>Curve (feat. The Weeknd)</td>\n",
       "      <td>Gucci Mane</td>\n",
       "      <td>0.476</td>\n",
       "      <td>-8.103</td>\n",
       "    </tr>\n",
       "    <tr>\n",
       "      <th>16</th>\n",
       "      <td>New Freezer (feat. Kendrick Lamar)</td>\n",
       "      <td>Rich The Kid</td>\n",
       "      <td>0.664</td>\n",
       "      <td>-10.130</td>\n",
       "    </tr>\n",
       "    <tr>\n",
       "      <th>17</th>\n",
       "      <td>Drunk in Love</td>\n",
       "      <td>XO</td>\n",
       "      <td>0.446</td>\n",
       "      <td>-11.064</td>\n",
       "    </tr>\n",
       "    <tr>\n",
       "      <th>18</th>\n",
       "      <td>King's Dead (with Kendrick Lamar, Future &amp; Jam...</td>\n",
       "      <td>Jay Rock</td>\n",
       "      <td>0.705</td>\n",
       "      <td>-5.008</td>\n",
       "    </tr>\n",
       "    <tr>\n",
       "      <th>19</th>\n",
       "      <td>4 AM</td>\n",
       "      <td>2 Chainz</td>\n",
       "      <td>0.500</td>\n",
       "      <td>-7.210</td>\n",
       "    </tr>\n",
       "  </tbody>\n",
       "</table>\n",
       "</div>"
      ],
      "text/plain": [
       "                                            song_name                artist   \n",
       "0                                              Motiv8               J. Cole  \\\n",
       "1                                              Try Me            The Weeknd   \n",
       "2                                                 ULT          Denzel Curry   \n",
       "3                                                SAD!          XXXTENTACION   \n",
       "4                                    Call Out My Name            The Weeknd   \n",
       "5                                        Wasted Times            The Weeknd   \n",
       "6                                            Hurt You            The Weeknd   \n",
       "7                                                Icon                 Jaden   \n",
       "8                                       Nice For What                 Drake   \n",
       "9                                      everybody dies               J. Cole   \n",
       "10                                              Enemy                    XO   \n",
       "11                                            Im Good                    XO   \n",
       "12                     Gimme the Loot - 2005 Remaster  The Notorious B.I.G.   \n",
       "13                                Diplomatic Immunity                 Drake   \n",
       "14                                          wonderful          Travis Scott   \n",
       "15                           Curve (feat. The Weeknd)            Gucci Mane   \n",
       "16                 New Freezer (feat. Kendrick Lamar)          Rich The Kid   \n",
       "17                                      Drunk in Love                    XO   \n",
       "18  King's Dead (with Kendrick Lamar, Future & Jam...              Jay Rock   \n",
       "19                                               4 AM              2 Chainz   \n",
       "\n",
       "    energy  loudness  \n",
       "0    0.385    -7.801  \n",
       "1    0.665    -5.748  \n",
       "2    0.786    -5.337  \n",
       "3    0.613    -4.880  \n",
       "4    0.598    -4.929  \n",
       "5    0.674    -6.049  \n",
       "6    0.716    -7.193  \n",
       "7    0.820    -5.093  \n",
       "8    0.913    -6.471  \n",
       "9    0.694    -9.376  \n",
       "10   0.554    -6.022  \n",
       "11   0.573    -6.693  \n",
       "12   0.662    -8.136  \n",
       "13   0.839    -5.076  \n",
       "14   0.569    -5.591  \n",
       "15   0.476    -8.103  \n",
       "16   0.664   -10.130  \n",
       "17   0.446   -11.064  \n",
       "18   0.705    -5.008  \n",
       "19   0.500    -7.210  "
      ]
     },
     "metadata": {},
     "output_type": "display_data"
    },
    {
     "data": {
      "text/html": [
       "<div>\n",
       "<style scoped>\n",
       "    .dataframe tbody tr th:only-of-type {\n",
       "        vertical-align: middle;\n",
       "    }\n",
       "\n",
       "    .dataframe tbody tr th {\n",
       "        vertical-align: top;\n",
       "    }\n",
       "\n",
       "    .dataframe thead th {\n",
       "        text-align: right;\n",
       "    }\n",
       "</style>\n",
       "<table border=\"1\" class=\"dataframe\">\n",
       "  <thead>\n",
       "    <tr style=\"text-align: right;\">\n",
       "      <th></th>\n",
       "      <th>danceability</th>\n",
       "      <th>energy</th>\n",
       "      <th>key</th>\n",
       "      <th>loudness</th>\n",
       "      <th>mode</th>\n",
       "      <th>speechiness</th>\n",
       "      <th>acousticness</th>\n",
       "      <th>instrumentalness</th>\n",
       "      <th>liveness</th>\n",
       "      <th>valence</th>\n",
       "      <th>tempo</th>\n",
       "      <th>type</th>\n",
       "      <th>id</th>\n",
       "      <th>uri</th>\n",
       "      <th>track_href</th>\n",
       "      <th>analysis_url</th>\n",
       "      <th>duration_ms</th>\n",
       "      <th>time_signature</th>\n",
       "    </tr>\n",
       "  </thead>\n",
       "  <tbody>\n",
       "    <tr>\n",
       "      <th>0</th>\n",
       "      <td>0.869</td>\n",
       "      <td>0.385</td>\n",
       "      <td>4</td>\n",
       "      <td>-7.801</td>\n",
       "      <td>1</td>\n",
       "      <td>0.2970</td>\n",
       "      <td>0.135000</td>\n",
       "      <td>0.000000</td>\n",
       "      <td>0.0931</td>\n",
       "      <td>0.596</td>\n",
       "      <td>149.897</td>\n",
       "      <td>audio_features</td>\n",
       "      <td>1AT4xjNarTswd0UZ5FlmKF</td>\n",
       "      <td>spotify:track:1AT4xjNarTswd0UZ5FlmKF</td>\n",
       "      <td>https://api.spotify.com/v1/tracks/1AT4xjNarTsw...</td>\n",
       "      <td>https://api.spotify.com/v1/audio-analysis/1AT4...</td>\n",
       "      <td>133922</td>\n",
       "      <td>4</td>\n",
       "    </tr>\n",
       "    <tr>\n",
       "      <th>1</th>\n",
       "      <td>0.508</td>\n",
       "      <td>0.665</td>\n",
       "      <td>8</td>\n",
       "      <td>-5.748</td>\n",
       "      <td>0</td>\n",
       "      <td>0.0694</td>\n",
       "      <td>0.629000</td>\n",
       "      <td>0.001240</td>\n",
       "      <td>0.1420</td>\n",
       "      <td>0.124</td>\n",
       "      <td>91.997</td>\n",
       "      <td>audio_features</td>\n",
       "      <td>2poOAWEj1CStqTVPgIHZ8s</td>\n",
       "      <td>spotify:track:2poOAWEj1CStqTVPgIHZ8s</td>\n",
       "      <td>https://api.spotify.com/v1/tracks/2poOAWEj1CSt...</td>\n",
       "      <td>https://api.spotify.com/v1/audio-analysis/2poO...</td>\n",
       "      <td>221107</td>\n",
       "      <td>4</td>\n",
       "    </tr>\n",
       "    <tr>\n",
       "      <th>2</th>\n",
       "      <td>0.772</td>\n",
       "      <td>0.786</td>\n",
       "      <td>1</td>\n",
       "      <td>-5.337</td>\n",
       "      <td>1</td>\n",
       "      <td>0.2400</td>\n",
       "      <td>0.113000</td>\n",
       "      <td>0.000000</td>\n",
       "      <td>0.2020</td>\n",
       "      <td>0.233</td>\n",
       "      <td>130.071</td>\n",
       "      <td>audio_features</td>\n",
       "      <td>5BSz8sJO2YmKfNVQG7fq2J</td>\n",
       "      <td>spotify:track:5BSz8sJO2YmKfNVQG7fq2J</td>\n",
       "      <td>https://api.spotify.com/v1/tracks/5BSz8sJO2YmK...</td>\n",
       "      <td>https://api.spotify.com/v1/audio-analysis/5BSz...</td>\n",
       "      <td>247055</td>\n",
       "      <td>4</td>\n",
       "    </tr>\n",
       "    <tr>\n",
       "      <th>3</th>\n",
       "      <td>0.740</td>\n",
       "      <td>0.613</td>\n",
       "      <td>8</td>\n",
       "      <td>-4.880</td>\n",
       "      <td>1</td>\n",
       "      <td>0.1450</td>\n",
       "      <td>0.258000</td>\n",
       "      <td>0.003720</td>\n",
       "      <td>0.1230</td>\n",
       "      <td>0.473</td>\n",
       "      <td>75.023</td>\n",
       "      <td>audio_features</td>\n",
       "      <td>3ee8Jmje8o58CHK66QrVC2</td>\n",
       "      <td>spotify:track:3ee8Jmje8o58CHK66QrVC2</td>\n",
       "      <td>https://api.spotify.com/v1/tracks/3ee8Jmje8o58...</td>\n",
       "      <td>https://api.spotify.com/v1/audio-analysis/3ee8...</td>\n",
       "      <td>166606</td>\n",
       "      <td>4</td>\n",
       "    </tr>\n",
       "    <tr>\n",
       "      <th>4</th>\n",
       "      <td>0.489</td>\n",
       "      <td>0.598</td>\n",
       "      <td>1</td>\n",
       "      <td>-4.929</td>\n",
       "      <td>1</td>\n",
       "      <td>0.0360</td>\n",
       "      <td>0.218000</td>\n",
       "      <td>0.000000</td>\n",
       "      <td>0.3500</td>\n",
       "      <td>0.172</td>\n",
       "      <td>134.045</td>\n",
       "      <td>audio_features</td>\n",
       "      <td>1gm616Plq4ScqNi7TVkZ5N</td>\n",
       "      <td>spotify:track:1gm616Plq4ScqNi7TVkZ5N</td>\n",
       "      <td>https://api.spotify.com/v1/tracks/1gm616Plq4Sc...</td>\n",
       "      <td>https://api.spotify.com/v1/audio-analysis/1gm6...</td>\n",
       "      <td>228373</td>\n",
       "      <td>3</td>\n",
       "    </tr>\n",
       "    <tr>\n",
       "      <th>5</th>\n",
       "      <td>0.562</td>\n",
       "      <td>0.674</td>\n",
       "      <td>10</td>\n",
       "      <td>-6.049</td>\n",
       "      <td>0</td>\n",
       "      <td>0.0851</td>\n",
       "      <td>0.622000</td>\n",
       "      <td>0.000020</td>\n",
       "      <td>0.1110</td>\n",
       "      <td>0.293</td>\n",
       "      <td>122.699</td>\n",
       "      <td>audio_features</td>\n",
       "      <td>72TyiiduRmczEbDIEtKQdR</td>\n",
       "      <td>spotify:track:72TyiiduRmczEbDIEtKQdR</td>\n",
       "      <td>https://api.spotify.com/v1/tracks/72TyiiduRmcz...</td>\n",
       "      <td>https://api.spotify.com/v1/audio-analysis/72Ty...</td>\n",
       "      <td>220293</td>\n",
       "      <td>4</td>\n",
       "    </tr>\n",
       "    <tr>\n",
       "      <th>6</th>\n",
       "      <td>0.484</td>\n",
       "      <td>0.716</td>\n",
       "      <td>5</td>\n",
       "      <td>-7.193</td>\n",
       "      <td>0</td>\n",
       "      <td>0.1670</td>\n",
       "      <td>0.300000</td>\n",
       "      <td>0.002140</td>\n",
       "      <td>0.1120</td>\n",
       "      <td>0.365</td>\n",
       "      <td>184.131</td>\n",
       "      <td>audio_features</td>\n",
       "      <td>13wNEvWmBsWaWVtiLPRIW5</td>\n",
       "      <td>spotify:track:13wNEvWmBsWaWVtiLPRIW5</td>\n",
       "      <td>https://api.spotify.com/v1/tracks/13wNEvWmBsWa...</td>\n",
       "      <td>https://api.spotify.com/v1/audio-analysis/13wN...</td>\n",
       "      <td>230027</td>\n",
       "      <td>4</td>\n",
       "    </tr>\n",
       "    <tr>\n",
       "      <th>7</th>\n",
       "      <td>0.786</td>\n",
       "      <td>0.820</td>\n",
       "      <td>9</td>\n",
       "      <td>-5.093</td>\n",
       "      <td>0</td>\n",
       "      <td>0.2320</td>\n",
       "      <td>0.222000</td>\n",
       "      <td>0.000000</td>\n",
       "      <td>0.5750</td>\n",
       "      <td>0.490</td>\n",
       "      <td>119.982</td>\n",
       "      <td>audio_features</td>\n",
       "      <td>22nyEAEM29tcBRhukR089b</td>\n",
       "      <td>spotify:track:22nyEAEM29tcBRhukR089b</td>\n",
       "      <td>https://api.spotify.com/v1/tracks/22nyEAEM29tc...</td>\n",
       "      <td>https://api.spotify.com/v1/audio-analysis/22ny...</td>\n",
       "      <td>220996</td>\n",
       "      <td>4</td>\n",
       "    </tr>\n",
       "    <tr>\n",
       "      <th>8</th>\n",
       "      <td>0.567</td>\n",
       "      <td>0.913</td>\n",
       "      <td>8</td>\n",
       "      <td>-6.471</td>\n",
       "      <td>1</td>\n",
       "      <td>0.0736</td>\n",
       "      <td>0.093400</td>\n",
       "      <td>0.000124</td>\n",
       "      <td>0.1140</td>\n",
       "      <td>0.792</td>\n",
       "      <td>93.350</td>\n",
       "      <td>audio_features</td>\n",
       "      <td>1cTZMwcBJT0Ka3UJPXOeeN</td>\n",
       "      <td>spotify:track:1cTZMwcBJT0Ka3UJPXOeeN</td>\n",
       "      <td>https://api.spotify.com/v1/tracks/1cTZMwcBJT0K...</td>\n",
       "      <td>https://api.spotify.com/v1/audio-analysis/1cTZ...</td>\n",
       "      <td>210926</td>\n",
       "      <td>4</td>\n",
       "    </tr>\n",
       "    <tr>\n",
       "      <th>9</th>\n",
       "      <td>0.779</td>\n",
       "      <td>0.694</td>\n",
       "      <td>9</td>\n",
       "      <td>-9.376</td>\n",
       "      <td>1</td>\n",
       "      <td>0.2000</td>\n",
       "      <td>0.281000</td>\n",
       "      <td>0.000014</td>\n",
       "      <td>0.1090</td>\n",
       "      <td>0.569</td>\n",
       "      <td>82.861</td>\n",
       "      <td>audio_features</td>\n",
       "      <td>1wIQtB3UQ1TfjNMZZqO6eh</td>\n",
       "      <td>spotify:track:1wIQtB3UQ1TfjNMZZqO6eh</td>\n",
       "      <td>https://api.spotify.com/v1/tracks/1wIQtB3UQ1Tf...</td>\n",
       "      <td>https://api.spotify.com/v1/audio-analysis/1wIQ...</td>\n",
       "      <td>161827</td>\n",
       "      <td>4</td>\n",
       "    </tr>\n",
       "    <tr>\n",
       "      <th>10</th>\n",
       "      <td>0.595</td>\n",
       "      <td>0.554</td>\n",
       "      <td>6</td>\n",
       "      <td>-6.022</td>\n",
       "      <td>0</td>\n",
       "      <td>0.0972</td>\n",
       "      <td>0.050300</td>\n",
       "      <td>0.000000</td>\n",
       "      <td>0.3780</td>\n",
       "      <td>0.152</td>\n",
       "      <td>123.507</td>\n",
       "      <td>audio_features</td>\n",
       "      <td>7MyJKHfPMD0lxkNro9FEGc</td>\n",
       "      <td>spotify:track:7MyJKHfPMD0lxkNro9FEGc</td>\n",
       "      <td>https://api.spotify.com/v1/tracks/7MyJKHfPMD0l...</td>\n",
       "      <td>https://api.spotify.com/v1/audio-analysis/7MyJ...</td>\n",
       "      <td>285000</td>\n",
       "      <td>4</td>\n",
       "    </tr>\n",
       "    <tr>\n",
       "      <th>11</th>\n",
       "      <td>0.667</td>\n",
       "      <td>0.573</td>\n",
       "      <td>8</td>\n",
       "      <td>-6.693</td>\n",
       "      <td>0</td>\n",
       "      <td>0.0573</td>\n",
       "      <td>0.057000</td>\n",
       "      <td>0.000000</td>\n",
       "      <td>0.2650</td>\n",
       "      <td>0.340</td>\n",
       "      <td>89.981</td>\n",
       "      <td>audio_features</td>\n",
       "      <td>05lO1cz8I79FER1b7Kq8EF</td>\n",
       "      <td>spotify:track:05lO1cz8I79FER1b7Kq8EF</td>\n",
       "      <td>https://api.spotify.com/v1/tracks/05lO1cz8I79F...</td>\n",
       "      <td>https://api.spotify.com/v1/audio-analysis/05lO...</td>\n",
       "      <td>108000</td>\n",
       "      <td>4</td>\n",
       "    </tr>\n",
       "    <tr>\n",
       "      <th>12</th>\n",
       "      <td>0.721</td>\n",
       "      <td>0.662</td>\n",
       "      <td>7</td>\n",
       "      <td>-8.136</td>\n",
       "      <td>1</td>\n",
       "      <td>0.4030</td>\n",
       "      <td>0.088800</td>\n",
       "      <td>0.000000</td>\n",
       "      <td>0.1780</td>\n",
       "      <td>0.680</td>\n",
       "      <td>94.191</td>\n",
       "      <td>audio_features</td>\n",
       "      <td>1xIxMz1sNQ4b6svH1GuTtF</td>\n",
       "      <td>spotify:track:1xIxMz1sNQ4b6svH1GuTtF</td>\n",
       "      <td>https://api.spotify.com/v1/tracks/1xIxMz1sNQ4b...</td>\n",
       "      <td>https://api.spotify.com/v1/audio-analysis/1xIx...</td>\n",
       "      <td>285947</td>\n",
       "      <td>4</td>\n",
       "    </tr>\n",
       "    <tr>\n",
       "      <th>13</th>\n",
       "      <td>0.655</td>\n",
       "      <td>0.839</td>\n",
       "      <td>9</td>\n",
       "      <td>-5.076</td>\n",
       "      <td>0</td>\n",
       "      <td>0.4430</td>\n",
       "      <td>0.005340</td>\n",
       "      <td>0.000000</td>\n",
       "      <td>0.3080</td>\n",
       "      <td>0.550</td>\n",
       "      <td>74.867</td>\n",
       "      <td>audio_features</td>\n",
       "      <td>5goGDc74vVREyN8al8CkPh</td>\n",
       "      <td>spotify:track:5goGDc74vVREyN8al8CkPh</td>\n",
       "      <td>https://api.spotify.com/v1/tracks/5goGDc74vVRE...</td>\n",
       "      <td>https://api.spotify.com/v1/audio-analysis/5goG...</td>\n",
       "      <td>255840</td>\n",
       "      <td>4</td>\n",
       "    </tr>\n",
       "    <tr>\n",
       "      <th>14</th>\n",
       "      <td>0.769</td>\n",
       "      <td>0.569</td>\n",
       "      <td>1</td>\n",
       "      <td>-5.591</td>\n",
       "      <td>0</td>\n",
       "      <td>0.0786</td>\n",
       "      <td>0.073700</td>\n",
       "      <td>0.000000</td>\n",
       "      <td>0.0571</td>\n",
       "      <td>0.612</td>\n",
       "      <td>146.062</td>\n",
       "      <td>audio_features</td>\n",
       "      <td>1cZlBZwnwGPtYeRIeQcoFh</td>\n",
       "      <td>spotify:track:1cZlBZwnwGPtYeRIeQcoFh</td>\n",
       "      <td>https://api.spotify.com/v1/tracks/1cZlBZwnwGPt...</td>\n",
       "      <td>https://api.spotify.com/v1/audio-analysis/1cZl...</td>\n",
       "      <td>216946</td>\n",
       "      <td>4</td>\n",
       "    </tr>\n",
       "    <tr>\n",
       "      <th>15</th>\n",
       "      <td>0.760</td>\n",
       "      <td>0.476</td>\n",
       "      <td>8</td>\n",
       "      <td>-8.103</td>\n",
       "      <td>1</td>\n",
       "      <td>0.2410</td>\n",
       "      <td>0.294000</td>\n",
       "      <td>0.000000</td>\n",
       "      <td>0.1000</td>\n",
       "      <td>0.354</td>\n",
       "      <td>147.010</td>\n",
       "      <td>audio_features</td>\n",
       "      <td>2yuyaYAELoMG4ApV5wJsWR</td>\n",
       "      <td>spotify:track:2yuyaYAELoMG4ApV5wJsWR</td>\n",
       "      <td>https://api.spotify.com/v1/tracks/2yuyaYAELoMG...</td>\n",
       "      <td>https://api.spotify.com/v1/audio-analysis/2yuy...</td>\n",
       "      <td>161990</td>\n",
       "      <td>4</td>\n",
       "    </tr>\n",
       "    <tr>\n",
       "      <th>16</th>\n",
       "      <td>0.888</td>\n",
       "      <td>0.664</td>\n",
       "      <td>0</td>\n",
       "      <td>-10.130</td>\n",
       "      <td>1</td>\n",
       "      <td>0.3410</td>\n",
       "      <td>0.042400</td>\n",
       "      <td>0.000000</td>\n",
       "      <td>0.0734</td>\n",
       "      <td>0.530</td>\n",
       "      <td>140.012</td>\n",
       "      <td>audio_features</td>\n",
       "      <td>4pYZLpX23Vx8rwDpJCpPTA</td>\n",
       "      <td>spotify:track:4pYZLpX23Vx8rwDpJCpPTA</td>\n",
       "      <td>https://api.spotify.com/v1/tracks/4pYZLpX23Vx8...</td>\n",
       "      <td>https://api.spotify.com/v1/audio-analysis/4pYZ...</td>\n",
       "      <td>193173</td>\n",
       "      <td>4</td>\n",
       "    </tr>\n",
       "    <tr>\n",
       "      <th>17</th>\n",
       "      <td>0.603</td>\n",
       "      <td>0.446</td>\n",
       "      <td>10</td>\n",
       "      <td>-11.064</td>\n",
       "      <td>0</td>\n",
       "      <td>0.0966</td>\n",
       "      <td>0.121000</td>\n",
       "      <td>0.000024</td>\n",
       "      <td>0.1110</td>\n",
       "      <td>0.300</td>\n",
       "      <td>140.189</td>\n",
       "      <td>audio_features</td>\n",
       "      <td>0AoLBS2mpSzLBWu3ihILQa</td>\n",
       "      <td>spotify:track:0AoLBS2mpSzLBWu3ihILQa</td>\n",
       "      <td>https://api.spotify.com/v1/tracks/0AoLBS2mpSzL...</td>\n",
       "      <td>https://api.spotify.com/v1/audio-analysis/0AoL...</td>\n",
       "      <td>210000</td>\n",
       "      <td>4</td>\n",
       "    </tr>\n",
       "    <tr>\n",
       "      <th>18</th>\n",
       "      <td>0.645</td>\n",
       "      <td>0.705</td>\n",
       "      <td>1</td>\n",
       "      <td>-5.008</td>\n",
       "      <td>1</td>\n",
       "      <td>0.2990</td>\n",
       "      <td>0.000813</td>\n",
       "      <td>0.000000</td>\n",
       "      <td>0.1280</td>\n",
       "      <td>0.376</td>\n",
       "      <td>137.133</td>\n",
       "      <td>audio_features</td>\n",
       "      <td>51rXHuKN8Loc4sUlKPODgH</td>\n",
       "      <td>spotify:track:51rXHuKN8Loc4sUlKPODgH</td>\n",
       "      <td>https://api.spotify.com/v1/tracks/51rXHuKN8Loc...</td>\n",
       "      <td>https://api.spotify.com/v1/audio-analysis/51rX...</td>\n",
       "      <td>229670</td>\n",
       "      <td>4</td>\n",
       "    </tr>\n",
       "    <tr>\n",
       "      <th>19</th>\n",
       "      <td>0.796</td>\n",
       "      <td>0.500</td>\n",
       "      <td>1</td>\n",
       "      <td>-7.210</td>\n",
       "      <td>1</td>\n",
       "      <td>0.4250</td>\n",
       "      <td>0.118000</td>\n",
       "      <td>0.000000</td>\n",
       "      <td>0.1550</td>\n",
       "      <td>0.227</td>\n",
       "      <td>75.012</td>\n",
       "      <td>audio_features</td>\n",
       "      <td>1nX9KhK3Fff27SnrIor2Yb</td>\n",
       "      <td>spotify:track:1nX9KhK3Fff27SnrIor2Yb</td>\n",
       "      <td>https://api.spotify.com/v1/tracks/1nX9KhK3Fff2...</td>\n",
       "      <td>https://api.spotify.com/v1/audio-analysis/1nX9...</td>\n",
       "      <td>255560</td>\n",
       "      <td>4</td>\n",
       "    </tr>\n",
       "  </tbody>\n",
       "</table>\n",
       "</div>"
      ],
      "text/plain": [
       "    danceability  energy  key  loudness  mode  speechiness  acousticness   \n",
       "0          0.869   0.385    4    -7.801     1       0.2970      0.135000  \\\n",
       "1          0.508   0.665    8    -5.748     0       0.0694      0.629000   \n",
       "2          0.772   0.786    1    -5.337     1       0.2400      0.113000   \n",
       "3          0.740   0.613    8    -4.880     1       0.1450      0.258000   \n",
       "4          0.489   0.598    1    -4.929     1       0.0360      0.218000   \n",
       "5          0.562   0.674   10    -6.049     0       0.0851      0.622000   \n",
       "6          0.484   0.716    5    -7.193     0       0.1670      0.300000   \n",
       "7          0.786   0.820    9    -5.093     0       0.2320      0.222000   \n",
       "8          0.567   0.913    8    -6.471     1       0.0736      0.093400   \n",
       "9          0.779   0.694    9    -9.376     1       0.2000      0.281000   \n",
       "10         0.595   0.554    6    -6.022     0       0.0972      0.050300   \n",
       "11         0.667   0.573    8    -6.693     0       0.0573      0.057000   \n",
       "12         0.721   0.662    7    -8.136     1       0.4030      0.088800   \n",
       "13         0.655   0.839    9    -5.076     0       0.4430      0.005340   \n",
       "14         0.769   0.569    1    -5.591     0       0.0786      0.073700   \n",
       "15         0.760   0.476    8    -8.103     1       0.2410      0.294000   \n",
       "16         0.888   0.664    0   -10.130     1       0.3410      0.042400   \n",
       "17         0.603   0.446   10   -11.064     0       0.0966      0.121000   \n",
       "18         0.645   0.705    1    -5.008     1       0.2990      0.000813   \n",
       "19         0.796   0.500    1    -7.210     1       0.4250      0.118000   \n",
       "\n",
       "    instrumentalness  liveness  valence    tempo            type   \n",
       "0           0.000000    0.0931    0.596  149.897  audio_features  \\\n",
       "1           0.001240    0.1420    0.124   91.997  audio_features   \n",
       "2           0.000000    0.2020    0.233  130.071  audio_features   \n",
       "3           0.003720    0.1230    0.473   75.023  audio_features   \n",
       "4           0.000000    0.3500    0.172  134.045  audio_features   \n",
       "5           0.000020    0.1110    0.293  122.699  audio_features   \n",
       "6           0.002140    0.1120    0.365  184.131  audio_features   \n",
       "7           0.000000    0.5750    0.490  119.982  audio_features   \n",
       "8           0.000124    0.1140    0.792   93.350  audio_features   \n",
       "9           0.000014    0.1090    0.569   82.861  audio_features   \n",
       "10          0.000000    0.3780    0.152  123.507  audio_features   \n",
       "11          0.000000    0.2650    0.340   89.981  audio_features   \n",
       "12          0.000000    0.1780    0.680   94.191  audio_features   \n",
       "13          0.000000    0.3080    0.550   74.867  audio_features   \n",
       "14          0.000000    0.0571    0.612  146.062  audio_features   \n",
       "15          0.000000    0.1000    0.354  147.010  audio_features   \n",
       "16          0.000000    0.0734    0.530  140.012  audio_features   \n",
       "17          0.000024    0.1110    0.300  140.189  audio_features   \n",
       "18          0.000000    0.1280    0.376  137.133  audio_features   \n",
       "19          0.000000    0.1550    0.227   75.012  audio_features   \n",
       "\n",
       "                        id                                   uri   \n",
       "0   1AT4xjNarTswd0UZ5FlmKF  spotify:track:1AT4xjNarTswd0UZ5FlmKF  \\\n",
       "1   2poOAWEj1CStqTVPgIHZ8s  spotify:track:2poOAWEj1CStqTVPgIHZ8s   \n",
       "2   5BSz8sJO2YmKfNVQG7fq2J  spotify:track:5BSz8sJO2YmKfNVQG7fq2J   \n",
       "3   3ee8Jmje8o58CHK66QrVC2  spotify:track:3ee8Jmje8o58CHK66QrVC2   \n",
       "4   1gm616Plq4ScqNi7TVkZ5N  spotify:track:1gm616Plq4ScqNi7TVkZ5N   \n",
       "5   72TyiiduRmczEbDIEtKQdR  spotify:track:72TyiiduRmczEbDIEtKQdR   \n",
       "6   13wNEvWmBsWaWVtiLPRIW5  spotify:track:13wNEvWmBsWaWVtiLPRIW5   \n",
       "7   22nyEAEM29tcBRhukR089b  spotify:track:22nyEAEM29tcBRhukR089b   \n",
       "8   1cTZMwcBJT0Ka3UJPXOeeN  spotify:track:1cTZMwcBJT0Ka3UJPXOeeN   \n",
       "9   1wIQtB3UQ1TfjNMZZqO6eh  spotify:track:1wIQtB3UQ1TfjNMZZqO6eh   \n",
       "10  7MyJKHfPMD0lxkNro9FEGc  spotify:track:7MyJKHfPMD0lxkNro9FEGc   \n",
       "11  05lO1cz8I79FER1b7Kq8EF  spotify:track:05lO1cz8I79FER1b7Kq8EF   \n",
       "12  1xIxMz1sNQ4b6svH1GuTtF  spotify:track:1xIxMz1sNQ4b6svH1GuTtF   \n",
       "13  5goGDc74vVREyN8al8CkPh  spotify:track:5goGDc74vVREyN8al8CkPh   \n",
       "14  1cZlBZwnwGPtYeRIeQcoFh  spotify:track:1cZlBZwnwGPtYeRIeQcoFh   \n",
       "15  2yuyaYAELoMG4ApV5wJsWR  spotify:track:2yuyaYAELoMG4ApV5wJsWR   \n",
       "16  4pYZLpX23Vx8rwDpJCpPTA  spotify:track:4pYZLpX23Vx8rwDpJCpPTA   \n",
       "17  0AoLBS2mpSzLBWu3ihILQa  spotify:track:0AoLBS2mpSzLBWu3ihILQa   \n",
       "18  51rXHuKN8Loc4sUlKPODgH  spotify:track:51rXHuKN8Loc4sUlKPODgH   \n",
       "19  1nX9KhK3Fff27SnrIor2Yb  spotify:track:1nX9KhK3Fff27SnrIor2Yb   \n",
       "\n",
       "                                           track_href   \n",
       "0   https://api.spotify.com/v1/tracks/1AT4xjNarTsw...  \\\n",
       "1   https://api.spotify.com/v1/tracks/2poOAWEj1CSt...   \n",
       "2   https://api.spotify.com/v1/tracks/5BSz8sJO2YmK...   \n",
       "3   https://api.spotify.com/v1/tracks/3ee8Jmje8o58...   \n",
       "4   https://api.spotify.com/v1/tracks/1gm616Plq4Sc...   \n",
       "5   https://api.spotify.com/v1/tracks/72TyiiduRmcz...   \n",
       "6   https://api.spotify.com/v1/tracks/13wNEvWmBsWa...   \n",
       "7   https://api.spotify.com/v1/tracks/22nyEAEM29tc...   \n",
       "8   https://api.spotify.com/v1/tracks/1cTZMwcBJT0K...   \n",
       "9   https://api.spotify.com/v1/tracks/1wIQtB3UQ1Tf...   \n",
       "10  https://api.spotify.com/v1/tracks/7MyJKHfPMD0l...   \n",
       "11  https://api.spotify.com/v1/tracks/05lO1cz8I79F...   \n",
       "12  https://api.spotify.com/v1/tracks/1xIxMz1sNQ4b...   \n",
       "13  https://api.spotify.com/v1/tracks/5goGDc74vVRE...   \n",
       "14  https://api.spotify.com/v1/tracks/1cZlBZwnwGPt...   \n",
       "15  https://api.spotify.com/v1/tracks/2yuyaYAELoMG...   \n",
       "16  https://api.spotify.com/v1/tracks/4pYZLpX23Vx8...   \n",
       "17  https://api.spotify.com/v1/tracks/0AoLBS2mpSzL...   \n",
       "18  https://api.spotify.com/v1/tracks/51rXHuKN8Loc...   \n",
       "19  https://api.spotify.com/v1/tracks/1nX9KhK3Fff2...   \n",
       "\n",
       "                                         analysis_url  duration_ms   \n",
       "0   https://api.spotify.com/v1/audio-analysis/1AT4...       133922  \\\n",
       "1   https://api.spotify.com/v1/audio-analysis/2poO...       221107   \n",
       "2   https://api.spotify.com/v1/audio-analysis/5BSz...       247055   \n",
       "3   https://api.spotify.com/v1/audio-analysis/3ee8...       166606   \n",
       "4   https://api.spotify.com/v1/audio-analysis/1gm6...       228373   \n",
       "5   https://api.spotify.com/v1/audio-analysis/72Ty...       220293   \n",
       "6   https://api.spotify.com/v1/audio-analysis/13wN...       230027   \n",
       "7   https://api.spotify.com/v1/audio-analysis/22ny...       220996   \n",
       "8   https://api.spotify.com/v1/audio-analysis/1cTZ...       210926   \n",
       "9   https://api.spotify.com/v1/audio-analysis/1wIQ...       161827   \n",
       "10  https://api.spotify.com/v1/audio-analysis/7MyJ...       285000   \n",
       "11  https://api.spotify.com/v1/audio-analysis/05lO...       108000   \n",
       "12  https://api.spotify.com/v1/audio-analysis/1xIx...       285947   \n",
       "13  https://api.spotify.com/v1/audio-analysis/5goG...       255840   \n",
       "14  https://api.spotify.com/v1/audio-analysis/1cZl...       216946   \n",
       "15  https://api.spotify.com/v1/audio-analysis/2yuy...       161990   \n",
       "16  https://api.spotify.com/v1/audio-analysis/4pYZ...       193173   \n",
       "17  https://api.spotify.com/v1/audio-analysis/0AoL...       210000   \n",
       "18  https://api.spotify.com/v1/audio-analysis/51rX...       229670   \n",
       "19  https://api.spotify.com/v1/audio-analysis/1nX9...       255560   \n",
       "\n",
       "    time_signature  \n",
       "0                4  \n",
       "1                4  \n",
       "2                4  \n",
       "3                4  \n",
       "4                3  \n",
       "5                4  \n",
       "6                4  \n",
       "7                4  \n",
       "8                4  \n",
       "9                4  \n",
       "10               4  \n",
       "11               4  \n",
       "12               4  \n",
       "13               4  \n",
       "14               4  \n",
       "15               4  \n",
       "16               4  \n",
       "17               4  \n",
       "18               4  \n",
       "19               4  "
      ]
     },
     "metadata": {},
     "output_type": "display_data"
    }
   ],
   "source": [
    "client_id = '7ec2c6a0c1ca4f759d88e667df32b568'\n",
    "client_secret = 'd7ce5b91649643468a60f694b37c279f'\n",
    "\n",
    "scope = 'user-library-read'\n",
    "redirect_uri = 'http://localhost:8888/callback'\n",
    "sp = spotipy.Spotify(auth_manager=SpotifyOAuth(scope=scope,client_id=client_id, client_secret=client_secret, redirect_uri=redirect_uri))\n",
    "\n",
    "results = sp.current_user_saved_tracks()\n",
    "artist = []\n",
    "song = []\n",
    "energy = []\n",
    "loudness = []\n",
    "for i in results['items']:\n",
    "    track = i['track']\n",
    "    song.append(track['name'])\n",
    "    artist.append(track['artists'][0]['name'])\n",
    "    energy.append(sp.audio_features(track['id'])[0]['energy'])\n",
    "    loudness.append(sp.audio_features(track['id'])[0]['loudness'])\n",
    "\n",
    "spotify_df = pd.DataFrame({\n",
    "    'song_name': song,\n",
    "    'artist': artist,\n",
    "    'energy': energy,\n",
    "    'loudness': loudness\n",
    "\n",
    "})\n",
    "display(spotify_df)\n",
    "\n",
    "songs_uri = [item['track']['uri'] for item in results['items']]\n",
    "audio_features = []\n",
    "\n",
    "for uri in songs_uri:\n",
    "    audio = sp.audio_features(uri)\n",
    "    audio_features.append((audio[0]))\n",
    "\n",
    "df_audio = pd.DataFrame(audio_features)\n",
    "\n",
    "display(df_audio)"
   ]
  },
  {
   "attachments": {},
   "cell_type": "markdown",
   "metadata": {},
   "source": [
    "#### Visualizations of data from my playlist"
   ]
  },
  {
   "cell_type": "code",
   "execution_count": 20,
   "metadata": {},
   "outputs": [
    {
     "data": {
      "application/vnd.plotly.v1+json": {
       "config": {
        "plotlyServerURL": "https://plot.ly"
       },
       "data": [
        {
         "alignmentgroup": "True",
         "hovertemplate": "x=%{x}<br>count=%{y}<extra></extra>",
         "legendgroup": "",
         "marker": {
          "color": "#636efa",
          "pattern": {
           "shape": ""
          }
         },
         "name": "",
         "offsetgroup": "",
         "orientation": "v",
         "showlegend": false,
         "textposition": "auto",
         "type": "bar",
         "x": [
          "J. Cole",
          "The Weeknd",
          "Denzel Curry",
          "XXXTENTACION",
          "The Weeknd",
          "The Weeknd",
          "The Weeknd",
          "Jaden",
          "Drake",
          "J. Cole",
          "XO",
          "XO",
          "The Notorious B.I.G.",
          "Drake",
          "Travis Scott",
          "Gucci Mane",
          "Rich The Kid",
          "XO",
          "Jay Rock",
          "2 Chainz"
         ],
         "xaxis": "x",
         "y": [
          1,
          1,
          1,
          1,
          1,
          1,
          1,
          1,
          1,
          1,
          1,
          1,
          1,
          1,
          1,
          1,
          1,
          1,
          1,
          1
         ],
         "yaxis": "y"
        }
       ],
       "layout": {
        "barmode": "relative",
        "legend": {
         "tracegroupgap": 0
        },
        "margin": {
         "t": 60
        },
        "template": {
         "data": {
          "bar": [
           {
            "error_x": {
             "color": "#2a3f5f"
            },
            "error_y": {
             "color": "#2a3f5f"
            },
            "marker": {
             "line": {
              "color": "#E5ECF6",
              "width": 0.5
             },
             "pattern": {
              "fillmode": "overlay",
              "size": 10,
              "solidity": 0.2
             }
            },
            "type": "bar"
           }
          ],
          "barpolar": [
           {
            "marker": {
             "line": {
              "color": "#E5ECF6",
              "width": 0.5
             },
             "pattern": {
              "fillmode": "overlay",
              "size": 10,
              "solidity": 0.2
             }
            },
            "type": "barpolar"
           }
          ],
          "carpet": [
           {
            "aaxis": {
             "endlinecolor": "#2a3f5f",
             "gridcolor": "white",
             "linecolor": "white",
             "minorgridcolor": "white",
             "startlinecolor": "#2a3f5f"
            },
            "baxis": {
             "endlinecolor": "#2a3f5f",
             "gridcolor": "white",
             "linecolor": "white",
             "minorgridcolor": "white",
             "startlinecolor": "#2a3f5f"
            },
            "type": "carpet"
           }
          ],
          "choropleth": [
           {
            "colorbar": {
             "outlinewidth": 0,
             "ticks": ""
            },
            "type": "choropleth"
           }
          ],
          "contour": [
           {
            "colorbar": {
             "outlinewidth": 0,
             "ticks": ""
            },
            "colorscale": [
             [
              0,
              "#0d0887"
             ],
             [
              0.1111111111111111,
              "#46039f"
             ],
             [
              0.2222222222222222,
              "#7201a8"
             ],
             [
              0.3333333333333333,
              "#9c179e"
             ],
             [
              0.4444444444444444,
              "#bd3786"
             ],
             [
              0.5555555555555556,
              "#d8576b"
             ],
             [
              0.6666666666666666,
              "#ed7953"
             ],
             [
              0.7777777777777778,
              "#fb9f3a"
             ],
             [
              0.8888888888888888,
              "#fdca26"
             ],
             [
              1,
              "#f0f921"
             ]
            ],
            "type": "contour"
           }
          ],
          "contourcarpet": [
           {
            "colorbar": {
             "outlinewidth": 0,
             "ticks": ""
            },
            "type": "contourcarpet"
           }
          ],
          "heatmap": [
           {
            "colorbar": {
             "outlinewidth": 0,
             "ticks": ""
            },
            "colorscale": [
             [
              0,
              "#0d0887"
             ],
             [
              0.1111111111111111,
              "#46039f"
             ],
             [
              0.2222222222222222,
              "#7201a8"
             ],
             [
              0.3333333333333333,
              "#9c179e"
             ],
             [
              0.4444444444444444,
              "#bd3786"
             ],
             [
              0.5555555555555556,
              "#d8576b"
             ],
             [
              0.6666666666666666,
              "#ed7953"
             ],
             [
              0.7777777777777778,
              "#fb9f3a"
             ],
             [
              0.8888888888888888,
              "#fdca26"
             ],
             [
              1,
              "#f0f921"
             ]
            ],
            "type": "heatmap"
           }
          ],
          "heatmapgl": [
           {
            "colorbar": {
             "outlinewidth": 0,
             "ticks": ""
            },
            "colorscale": [
             [
              0,
              "#0d0887"
             ],
             [
              0.1111111111111111,
              "#46039f"
             ],
             [
              0.2222222222222222,
              "#7201a8"
             ],
             [
              0.3333333333333333,
              "#9c179e"
             ],
             [
              0.4444444444444444,
              "#bd3786"
             ],
             [
              0.5555555555555556,
              "#d8576b"
             ],
             [
              0.6666666666666666,
              "#ed7953"
             ],
             [
              0.7777777777777778,
              "#fb9f3a"
             ],
             [
              0.8888888888888888,
              "#fdca26"
             ],
             [
              1,
              "#f0f921"
             ]
            ],
            "type": "heatmapgl"
           }
          ],
          "histogram": [
           {
            "marker": {
             "pattern": {
              "fillmode": "overlay",
              "size": 10,
              "solidity": 0.2
             }
            },
            "type": "histogram"
           }
          ],
          "histogram2d": [
           {
            "colorbar": {
             "outlinewidth": 0,
             "ticks": ""
            },
            "colorscale": [
             [
              0,
              "#0d0887"
             ],
             [
              0.1111111111111111,
              "#46039f"
             ],
             [
              0.2222222222222222,
              "#7201a8"
             ],
             [
              0.3333333333333333,
              "#9c179e"
             ],
             [
              0.4444444444444444,
              "#bd3786"
             ],
             [
              0.5555555555555556,
              "#d8576b"
             ],
             [
              0.6666666666666666,
              "#ed7953"
             ],
             [
              0.7777777777777778,
              "#fb9f3a"
             ],
             [
              0.8888888888888888,
              "#fdca26"
             ],
             [
              1,
              "#f0f921"
             ]
            ],
            "type": "histogram2d"
           }
          ],
          "histogram2dcontour": [
           {
            "colorbar": {
             "outlinewidth": 0,
             "ticks": ""
            },
            "colorscale": [
             [
              0,
              "#0d0887"
             ],
             [
              0.1111111111111111,
              "#46039f"
             ],
             [
              0.2222222222222222,
              "#7201a8"
             ],
             [
              0.3333333333333333,
              "#9c179e"
             ],
             [
              0.4444444444444444,
              "#bd3786"
             ],
             [
              0.5555555555555556,
              "#d8576b"
             ],
             [
              0.6666666666666666,
              "#ed7953"
             ],
             [
              0.7777777777777778,
              "#fb9f3a"
             ],
             [
              0.8888888888888888,
              "#fdca26"
             ],
             [
              1,
              "#f0f921"
             ]
            ],
            "type": "histogram2dcontour"
           }
          ],
          "mesh3d": [
           {
            "colorbar": {
             "outlinewidth": 0,
             "ticks": ""
            },
            "type": "mesh3d"
           }
          ],
          "parcoords": [
           {
            "line": {
             "colorbar": {
              "outlinewidth": 0,
              "ticks": ""
             }
            },
            "type": "parcoords"
           }
          ],
          "pie": [
           {
            "automargin": true,
            "type": "pie"
           }
          ],
          "scatter": [
           {
            "fillpattern": {
             "fillmode": "overlay",
             "size": 10,
             "solidity": 0.2
            },
            "type": "scatter"
           }
          ],
          "scatter3d": [
           {
            "line": {
             "colorbar": {
              "outlinewidth": 0,
              "ticks": ""
             }
            },
            "marker": {
             "colorbar": {
              "outlinewidth": 0,
              "ticks": ""
             }
            },
            "type": "scatter3d"
           }
          ],
          "scattercarpet": [
           {
            "marker": {
             "colorbar": {
              "outlinewidth": 0,
              "ticks": ""
             }
            },
            "type": "scattercarpet"
           }
          ],
          "scattergeo": [
           {
            "marker": {
             "colorbar": {
              "outlinewidth": 0,
              "ticks": ""
             }
            },
            "type": "scattergeo"
           }
          ],
          "scattergl": [
           {
            "marker": {
             "colorbar": {
              "outlinewidth": 0,
              "ticks": ""
             }
            },
            "type": "scattergl"
           }
          ],
          "scattermapbox": [
           {
            "marker": {
             "colorbar": {
              "outlinewidth": 0,
              "ticks": ""
             }
            },
            "type": "scattermapbox"
           }
          ],
          "scatterpolar": [
           {
            "marker": {
             "colorbar": {
              "outlinewidth": 0,
              "ticks": ""
             }
            },
            "type": "scatterpolar"
           }
          ],
          "scatterpolargl": [
           {
            "marker": {
             "colorbar": {
              "outlinewidth": 0,
              "ticks": ""
             }
            },
            "type": "scatterpolargl"
           }
          ],
          "scatterternary": [
           {
            "marker": {
             "colorbar": {
              "outlinewidth": 0,
              "ticks": ""
             }
            },
            "type": "scatterternary"
           }
          ],
          "surface": [
           {
            "colorbar": {
             "outlinewidth": 0,
             "ticks": ""
            },
            "colorscale": [
             [
              0,
              "#0d0887"
             ],
             [
              0.1111111111111111,
              "#46039f"
             ],
             [
              0.2222222222222222,
              "#7201a8"
             ],
             [
              0.3333333333333333,
              "#9c179e"
             ],
             [
              0.4444444444444444,
              "#bd3786"
             ],
             [
              0.5555555555555556,
              "#d8576b"
             ],
             [
              0.6666666666666666,
              "#ed7953"
             ],
             [
              0.7777777777777778,
              "#fb9f3a"
             ],
             [
              0.8888888888888888,
              "#fdca26"
             ],
             [
              1,
              "#f0f921"
             ]
            ],
            "type": "surface"
           }
          ],
          "table": [
           {
            "cells": {
             "fill": {
              "color": "#EBF0F8"
             },
             "line": {
              "color": "white"
             }
            },
            "header": {
             "fill": {
              "color": "#C8D4E3"
             },
             "line": {
              "color": "white"
             }
            },
            "type": "table"
           }
          ]
         },
         "layout": {
          "annotationdefaults": {
           "arrowcolor": "#2a3f5f",
           "arrowhead": 0,
           "arrowwidth": 1
          },
          "autotypenumbers": "strict",
          "coloraxis": {
           "colorbar": {
            "outlinewidth": 0,
            "ticks": ""
           }
          },
          "colorscale": {
           "diverging": [
            [
             0,
             "#8e0152"
            ],
            [
             0.1,
             "#c51b7d"
            ],
            [
             0.2,
             "#de77ae"
            ],
            [
             0.3,
             "#f1b6da"
            ],
            [
             0.4,
             "#fde0ef"
            ],
            [
             0.5,
             "#f7f7f7"
            ],
            [
             0.6,
             "#e6f5d0"
            ],
            [
             0.7,
             "#b8e186"
            ],
            [
             0.8,
             "#7fbc41"
            ],
            [
             0.9,
             "#4d9221"
            ],
            [
             1,
             "#276419"
            ]
           ],
           "sequential": [
            [
             0,
             "#0d0887"
            ],
            [
             0.1111111111111111,
             "#46039f"
            ],
            [
             0.2222222222222222,
             "#7201a8"
            ],
            [
             0.3333333333333333,
             "#9c179e"
            ],
            [
             0.4444444444444444,
             "#bd3786"
            ],
            [
             0.5555555555555556,
             "#d8576b"
            ],
            [
             0.6666666666666666,
             "#ed7953"
            ],
            [
             0.7777777777777778,
             "#fb9f3a"
            ],
            [
             0.8888888888888888,
             "#fdca26"
            ],
            [
             1,
             "#f0f921"
            ]
           ],
           "sequentialminus": [
            [
             0,
             "#0d0887"
            ],
            [
             0.1111111111111111,
             "#46039f"
            ],
            [
             0.2222222222222222,
             "#7201a8"
            ],
            [
             0.3333333333333333,
             "#9c179e"
            ],
            [
             0.4444444444444444,
             "#bd3786"
            ],
            [
             0.5555555555555556,
             "#d8576b"
            ],
            [
             0.6666666666666666,
             "#ed7953"
            ],
            [
             0.7777777777777778,
             "#fb9f3a"
            ],
            [
             0.8888888888888888,
             "#fdca26"
            ],
            [
             1,
             "#f0f921"
            ]
           ]
          },
          "colorway": [
           "#636efa",
           "#EF553B",
           "#00cc96",
           "#ab63fa",
           "#FFA15A",
           "#19d3f3",
           "#FF6692",
           "#B6E880",
           "#FF97FF",
           "#FECB52"
          ],
          "font": {
           "color": "#2a3f5f"
          },
          "geo": {
           "bgcolor": "white",
           "lakecolor": "white",
           "landcolor": "#E5ECF6",
           "showlakes": true,
           "showland": true,
           "subunitcolor": "white"
          },
          "hoverlabel": {
           "align": "left"
          },
          "hovermode": "closest",
          "mapbox": {
           "style": "light"
          },
          "paper_bgcolor": "white",
          "plot_bgcolor": "#E5ECF6",
          "polar": {
           "angularaxis": {
            "gridcolor": "white",
            "linecolor": "white",
            "ticks": ""
           },
           "bgcolor": "#E5ECF6",
           "radialaxis": {
            "gridcolor": "white",
            "linecolor": "white",
            "ticks": ""
           }
          },
          "scene": {
           "xaxis": {
            "backgroundcolor": "#E5ECF6",
            "gridcolor": "white",
            "gridwidth": 2,
            "linecolor": "white",
            "showbackground": true,
            "ticks": "",
            "zerolinecolor": "white"
           },
           "yaxis": {
            "backgroundcolor": "#E5ECF6",
            "gridcolor": "white",
            "gridwidth": 2,
            "linecolor": "white",
            "showbackground": true,
            "ticks": "",
            "zerolinecolor": "white"
           },
           "zaxis": {
            "backgroundcolor": "#E5ECF6",
            "gridcolor": "white",
            "gridwidth": 2,
            "linecolor": "white",
            "showbackground": true,
            "ticks": "",
            "zerolinecolor": "white"
           }
          },
          "shapedefaults": {
           "line": {
            "color": "#2a3f5f"
           }
          },
          "ternary": {
           "aaxis": {
            "gridcolor": "white",
            "linecolor": "white",
            "ticks": ""
           },
           "baxis": {
            "gridcolor": "white",
            "linecolor": "white",
            "ticks": ""
           },
           "bgcolor": "#E5ECF6",
           "caxis": {
            "gridcolor": "white",
            "linecolor": "white",
            "ticks": ""
           }
          },
          "title": {
           "x": 0.05
          },
          "xaxis": {
           "automargin": true,
           "gridcolor": "white",
           "linecolor": "white",
           "ticks": "",
           "title": {
            "standoff": 15
           },
           "zerolinecolor": "white",
           "zerolinewidth": 2
          },
          "yaxis": {
           "automargin": true,
           "gridcolor": "white",
           "linecolor": "white",
           "ticks": "",
           "title": {
            "standoff": 15
           },
           "zerolinecolor": "white",
           "zerolinewidth": 2
          }
         }
        },
        "title": {
         "text": "Number of songs by Artist"
        },
        "xaxis": {
         "anchor": "y",
         "domain": [
          0,
          1
         ],
         "title": {
          "text": "Artist"
         }
        },
        "yaxis": {
         "anchor": "x",
         "domain": [
          0,
          1
         ],
         "title": {
          "text": "Number of songs"
         }
        }
       }
      }
     },
     "metadata": {},
     "output_type": "display_data"
    },
    {
     "data": {
      "application/vnd.plotly.v1+json": {
       "config": {
        "plotlyServerURL": "https://plot.ly"
       },
       "data": [
        {
         "alignmentgroup": "True",
         "hovertemplate": "x=%{x}<br>y=%{y}<extra></extra>",
         "legendgroup": "",
         "marker": {
          "color": "#636efa",
          "pattern": {
           "shape": ""
          }
         },
         "name": "",
         "offsetgroup": "",
         "orientation": "v",
         "showlegend": false,
         "textposition": "auto",
         "type": "bar",
         "x": [
          "J. Cole",
          "The Weeknd",
          "Denzel Curry",
          "XXXTENTACION",
          "The Weeknd",
          "The Weeknd",
          "The Weeknd",
          "Jaden",
          "Drake",
          "J. Cole",
          "XO",
          "XO",
          "The Notorious B.I.G.",
          "Drake",
          "Travis Scott",
          "Gucci Mane",
          "Rich The Kid",
          "XO",
          "Jay Rock",
          "2 Chainz"
         ],
         "xaxis": "x",
         "y": [
          0.385,
          0.665,
          0.786,
          0.613,
          0.598,
          0.674,
          0.716,
          0.82,
          0.913,
          0.694,
          0.554,
          0.573,
          0.662,
          0.839,
          0.569,
          0.476,
          0.664,
          0.446,
          0.705,
          0.5
         ],
         "yaxis": "y"
        }
       ],
       "layout": {
        "barmode": "relative",
        "legend": {
         "tracegroupgap": 0
        },
        "margin": {
         "t": 60
        },
        "template": {
         "data": {
          "bar": [
           {
            "error_x": {
             "color": "#2a3f5f"
            },
            "error_y": {
             "color": "#2a3f5f"
            },
            "marker": {
             "line": {
              "color": "#E5ECF6",
              "width": 0.5
             },
             "pattern": {
              "fillmode": "overlay",
              "size": 10,
              "solidity": 0.2
             }
            },
            "type": "bar"
           }
          ],
          "barpolar": [
           {
            "marker": {
             "line": {
              "color": "#E5ECF6",
              "width": 0.5
             },
             "pattern": {
              "fillmode": "overlay",
              "size": 10,
              "solidity": 0.2
             }
            },
            "type": "barpolar"
           }
          ],
          "carpet": [
           {
            "aaxis": {
             "endlinecolor": "#2a3f5f",
             "gridcolor": "white",
             "linecolor": "white",
             "minorgridcolor": "white",
             "startlinecolor": "#2a3f5f"
            },
            "baxis": {
             "endlinecolor": "#2a3f5f",
             "gridcolor": "white",
             "linecolor": "white",
             "minorgridcolor": "white",
             "startlinecolor": "#2a3f5f"
            },
            "type": "carpet"
           }
          ],
          "choropleth": [
           {
            "colorbar": {
             "outlinewidth": 0,
             "ticks": ""
            },
            "type": "choropleth"
           }
          ],
          "contour": [
           {
            "colorbar": {
             "outlinewidth": 0,
             "ticks": ""
            },
            "colorscale": [
             [
              0,
              "#0d0887"
             ],
             [
              0.1111111111111111,
              "#46039f"
             ],
             [
              0.2222222222222222,
              "#7201a8"
             ],
             [
              0.3333333333333333,
              "#9c179e"
             ],
             [
              0.4444444444444444,
              "#bd3786"
             ],
             [
              0.5555555555555556,
              "#d8576b"
             ],
             [
              0.6666666666666666,
              "#ed7953"
             ],
             [
              0.7777777777777778,
              "#fb9f3a"
             ],
             [
              0.8888888888888888,
              "#fdca26"
             ],
             [
              1,
              "#f0f921"
             ]
            ],
            "type": "contour"
           }
          ],
          "contourcarpet": [
           {
            "colorbar": {
             "outlinewidth": 0,
             "ticks": ""
            },
            "type": "contourcarpet"
           }
          ],
          "heatmap": [
           {
            "colorbar": {
             "outlinewidth": 0,
             "ticks": ""
            },
            "colorscale": [
             [
              0,
              "#0d0887"
             ],
             [
              0.1111111111111111,
              "#46039f"
             ],
             [
              0.2222222222222222,
              "#7201a8"
             ],
             [
              0.3333333333333333,
              "#9c179e"
             ],
             [
              0.4444444444444444,
              "#bd3786"
             ],
             [
              0.5555555555555556,
              "#d8576b"
             ],
             [
              0.6666666666666666,
              "#ed7953"
             ],
             [
              0.7777777777777778,
              "#fb9f3a"
             ],
             [
              0.8888888888888888,
              "#fdca26"
             ],
             [
              1,
              "#f0f921"
             ]
            ],
            "type": "heatmap"
           }
          ],
          "heatmapgl": [
           {
            "colorbar": {
             "outlinewidth": 0,
             "ticks": ""
            },
            "colorscale": [
             [
              0,
              "#0d0887"
             ],
             [
              0.1111111111111111,
              "#46039f"
             ],
             [
              0.2222222222222222,
              "#7201a8"
             ],
             [
              0.3333333333333333,
              "#9c179e"
             ],
             [
              0.4444444444444444,
              "#bd3786"
             ],
             [
              0.5555555555555556,
              "#d8576b"
             ],
             [
              0.6666666666666666,
              "#ed7953"
             ],
             [
              0.7777777777777778,
              "#fb9f3a"
             ],
             [
              0.8888888888888888,
              "#fdca26"
             ],
             [
              1,
              "#f0f921"
             ]
            ],
            "type": "heatmapgl"
           }
          ],
          "histogram": [
           {
            "marker": {
             "pattern": {
              "fillmode": "overlay",
              "size": 10,
              "solidity": 0.2
             }
            },
            "type": "histogram"
           }
          ],
          "histogram2d": [
           {
            "colorbar": {
             "outlinewidth": 0,
             "ticks": ""
            },
            "colorscale": [
             [
              0,
              "#0d0887"
             ],
             [
              0.1111111111111111,
              "#46039f"
             ],
             [
              0.2222222222222222,
              "#7201a8"
             ],
             [
              0.3333333333333333,
              "#9c179e"
             ],
             [
              0.4444444444444444,
              "#bd3786"
             ],
             [
              0.5555555555555556,
              "#d8576b"
             ],
             [
              0.6666666666666666,
              "#ed7953"
             ],
             [
              0.7777777777777778,
              "#fb9f3a"
             ],
             [
              0.8888888888888888,
              "#fdca26"
             ],
             [
              1,
              "#f0f921"
             ]
            ],
            "type": "histogram2d"
           }
          ],
          "histogram2dcontour": [
           {
            "colorbar": {
             "outlinewidth": 0,
             "ticks": ""
            },
            "colorscale": [
             [
              0,
              "#0d0887"
             ],
             [
              0.1111111111111111,
              "#46039f"
             ],
             [
              0.2222222222222222,
              "#7201a8"
             ],
             [
              0.3333333333333333,
              "#9c179e"
             ],
             [
              0.4444444444444444,
              "#bd3786"
             ],
             [
              0.5555555555555556,
              "#d8576b"
             ],
             [
              0.6666666666666666,
              "#ed7953"
             ],
             [
              0.7777777777777778,
              "#fb9f3a"
             ],
             [
              0.8888888888888888,
              "#fdca26"
             ],
             [
              1,
              "#f0f921"
             ]
            ],
            "type": "histogram2dcontour"
           }
          ],
          "mesh3d": [
           {
            "colorbar": {
             "outlinewidth": 0,
             "ticks": ""
            },
            "type": "mesh3d"
           }
          ],
          "parcoords": [
           {
            "line": {
             "colorbar": {
              "outlinewidth": 0,
              "ticks": ""
             }
            },
            "type": "parcoords"
           }
          ],
          "pie": [
           {
            "automargin": true,
            "type": "pie"
           }
          ],
          "scatter": [
           {
            "fillpattern": {
             "fillmode": "overlay",
             "size": 10,
             "solidity": 0.2
            },
            "type": "scatter"
           }
          ],
          "scatter3d": [
           {
            "line": {
             "colorbar": {
              "outlinewidth": 0,
              "ticks": ""
             }
            },
            "marker": {
             "colorbar": {
              "outlinewidth": 0,
              "ticks": ""
             }
            },
            "type": "scatter3d"
           }
          ],
          "scattercarpet": [
           {
            "marker": {
             "colorbar": {
              "outlinewidth": 0,
              "ticks": ""
             }
            },
            "type": "scattercarpet"
           }
          ],
          "scattergeo": [
           {
            "marker": {
             "colorbar": {
              "outlinewidth": 0,
              "ticks": ""
             }
            },
            "type": "scattergeo"
           }
          ],
          "scattergl": [
           {
            "marker": {
             "colorbar": {
              "outlinewidth": 0,
              "ticks": ""
             }
            },
            "type": "scattergl"
           }
          ],
          "scattermapbox": [
           {
            "marker": {
             "colorbar": {
              "outlinewidth": 0,
              "ticks": ""
             }
            },
            "type": "scattermapbox"
           }
          ],
          "scatterpolar": [
           {
            "marker": {
             "colorbar": {
              "outlinewidth": 0,
              "ticks": ""
             }
            },
            "type": "scatterpolar"
           }
          ],
          "scatterpolargl": [
           {
            "marker": {
             "colorbar": {
              "outlinewidth": 0,
              "ticks": ""
             }
            },
            "type": "scatterpolargl"
           }
          ],
          "scatterternary": [
           {
            "marker": {
             "colorbar": {
              "outlinewidth": 0,
              "ticks": ""
             }
            },
            "type": "scatterternary"
           }
          ],
          "surface": [
           {
            "colorbar": {
             "outlinewidth": 0,
             "ticks": ""
            },
            "colorscale": [
             [
              0,
              "#0d0887"
             ],
             [
              0.1111111111111111,
              "#46039f"
             ],
             [
              0.2222222222222222,
              "#7201a8"
             ],
             [
              0.3333333333333333,
              "#9c179e"
             ],
             [
              0.4444444444444444,
              "#bd3786"
             ],
             [
              0.5555555555555556,
              "#d8576b"
             ],
             [
              0.6666666666666666,
              "#ed7953"
             ],
             [
              0.7777777777777778,
              "#fb9f3a"
             ],
             [
              0.8888888888888888,
              "#fdca26"
             ],
             [
              1,
              "#f0f921"
             ]
            ],
            "type": "surface"
           }
          ],
          "table": [
           {
            "cells": {
             "fill": {
              "color": "#EBF0F8"
             },
             "line": {
              "color": "white"
             }
            },
            "header": {
             "fill": {
              "color": "#C8D4E3"
             },
             "line": {
              "color": "white"
             }
            },
            "type": "table"
           }
          ]
         },
         "layout": {
          "annotationdefaults": {
           "arrowcolor": "#2a3f5f",
           "arrowhead": 0,
           "arrowwidth": 1
          },
          "autotypenumbers": "strict",
          "coloraxis": {
           "colorbar": {
            "outlinewidth": 0,
            "ticks": ""
           }
          },
          "colorscale": {
           "diverging": [
            [
             0,
             "#8e0152"
            ],
            [
             0.1,
             "#c51b7d"
            ],
            [
             0.2,
             "#de77ae"
            ],
            [
             0.3,
             "#f1b6da"
            ],
            [
             0.4,
             "#fde0ef"
            ],
            [
             0.5,
             "#f7f7f7"
            ],
            [
             0.6,
             "#e6f5d0"
            ],
            [
             0.7,
             "#b8e186"
            ],
            [
             0.8,
             "#7fbc41"
            ],
            [
             0.9,
             "#4d9221"
            ],
            [
             1,
             "#276419"
            ]
           ],
           "sequential": [
            [
             0,
             "#0d0887"
            ],
            [
             0.1111111111111111,
             "#46039f"
            ],
            [
             0.2222222222222222,
             "#7201a8"
            ],
            [
             0.3333333333333333,
             "#9c179e"
            ],
            [
             0.4444444444444444,
             "#bd3786"
            ],
            [
             0.5555555555555556,
             "#d8576b"
            ],
            [
             0.6666666666666666,
             "#ed7953"
            ],
            [
             0.7777777777777778,
             "#fb9f3a"
            ],
            [
             0.8888888888888888,
             "#fdca26"
            ],
            [
             1,
             "#f0f921"
            ]
           ],
           "sequentialminus": [
            [
             0,
             "#0d0887"
            ],
            [
             0.1111111111111111,
             "#46039f"
            ],
            [
             0.2222222222222222,
             "#7201a8"
            ],
            [
             0.3333333333333333,
             "#9c179e"
            ],
            [
             0.4444444444444444,
             "#bd3786"
            ],
            [
             0.5555555555555556,
             "#d8576b"
            ],
            [
             0.6666666666666666,
             "#ed7953"
            ],
            [
             0.7777777777777778,
             "#fb9f3a"
            ],
            [
             0.8888888888888888,
             "#fdca26"
            ],
            [
             1,
             "#f0f921"
            ]
           ]
          },
          "colorway": [
           "#636efa",
           "#EF553B",
           "#00cc96",
           "#ab63fa",
           "#FFA15A",
           "#19d3f3",
           "#FF6692",
           "#B6E880",
           "#FF97FF",
           "#FECB52"
          ],
          "font": {
           "color": "#2a3f5f"
          },
          "geo": {
           "bgcolor": "white",
           "lakecolor": "white",
           "landcolor": "#E5ECF6",
           "showlakes": true,
           "showland": true,
           "subunitcolor": "white"
          },
          "hoverlabel": {
           "align": "left"
          },
          "hovermode": "closest",
          "mapbox": {
           "style": "light"
          },
          "paper_bgcolor": "white",
          "plot_bgcolor": "#E5ECF6",
          "polar": {
           "angularaxis": {
            "gridcolor": "white",
            "linecolor": "white",
            "ticks": ""
           },
           "bgcolor": "#E5ECF6",
           "radialaxis": {
            "gridcolor": "white",
            "linecolor": "white",
            "ticks": ""
           }
          },
          "scene": {
           "xaxis": {
            "backgroundcolor": "#E5ECF6",
            "gridcolor": "white",
            "gridwidth": 2,
            "linecolor": "white",
            "showbackground": true,
            "ticks": "",
            "zerolinecolor": "white"
           },
           "yaxis": {
            "backgroundcolor": "#E5ECF6",
            "gridcolor": "white",
            "gridwidth": 2,
            "linecolor": "white",
            "showbackground": true,
            "ticks": "",
            "zerolinecolor": "white"
           },
           "zaxis": {
            "backgroundcolor": "#E5ECF6",
            "gridcolor": "white",
            "gridwidth": 2,
            "linecolor": "white",
            "showbackground": true,
            "ticks": "",
            "zerolinecolor": "white"
           }
          },
          "shapedefaults": {
           "line": {
            "color": "#2a3f5f"
           }
          },
          "ternary": {
           "aaxis": {
            "gridcolor": "white",
            "linecolor": "white",
            "ticks": ""
           },
           "baxis": {
            "gridcolor": "white",
            "linecolor": "white",
            "ticks": ""
           },
           "bgcolor": "#E5ECF6",
           "caxis": {
            "gridcolor": "white",
            "linecolor": "white",
            "ticks": ""
           }
          },
          "title": {
           "x": 0.05
          },
          "xaxis": {
           "automargin": true,
           "gridcolor": "white",
           "linecolor": "white",
           "ticks": "",
           "title": {
            "standoff": 15
           },
           "zerolinecolor": "white",
           "zerolinewidth": 2
          },
          "yaxis": {
           "automargin": true,
           "gridcolor": "white",
           "linecolor": "white",
           "ticks": "",
           "title": {
            "standoff": 15
           },
           "zerolinecolor": "white",
           "zerolinewidth": 2
          }
         }
        },
        "title": {
         "text": "Energy by Artist"
        },
        "xaxis": {
         "anchor": "y",
         "domain": [
          0,
          1
         ],
         "title": {
          "text": "Artist"
         }
        },
        "yaxis": {
         "anchor": "x",
         "domain": [
          0,
          1
         ],
         "title": {
          "text": "Energy"
         }
        }
       }
      }
     },
     "metadata": {},
     "output_type": "display_data"
    },
    {
     "data": {
      "application/vnd.plotly.v1+json": {
       "config": {
        "plotlyServerURL": "https://plot.ly"
       },
       "data": [
        {
         "alignmentgroup": "True",
         "hovertemplate": "artist=%{x}<br>loudness=%{y}<extra></extra>",
         "legendgroup": "",
         "marker": {
          "color": "#636efa",
          "pattern": {
           "shape": ""
          }
         },
         "name": "",
         "offsetgroup": "",
         "orientation": "v",
         "showlegend": false,
         "textposition": "auto",
         "type": "bar",
         "x": [
          "J. Cole",
          "The Weeknd",
          "Denzel Curry",
          "XXXTENTACION",
          "The Weeknd",
          "The Weeknd",
          "The Weeknd",
          "Jaden",
          "Drake",
          "J. Cole",
          "XO",
          "XO",
          "The Notorious B.I.G.",
          "Drake",
          "Travis Scott",
          "Gucci Mane",
          "Rich The Kid",
          "XO",
          "Jay Rock",
          "2 Chainz"
         ],
         "xaxis": "x",
         "y": [
          -7.801,
          -5.748,
          -5.337,
          -4.88,
          -4.929,
          -6.049,
          -7.193,
          -5.093,
          -6.471,
          -9.376,
          -6.022,
          -6.693,
          -8.136,
          -5.076,
          -5.591,
          -8.103,
          -10.13,
          -11.064,
          -5.008,
          -7.21
         ],
         "yaxis": "y"
        }
       ],
       "layout": {
        "barmode": "relative",
        "legend": {
         "tracegroupgap": 0
        },
        "margin": {
         "t": 60
        },
        "template": {
         "data": {
          "bar": [
           {
            "error_x": {
             "color": "#2a3f5f"
            },
            "error_y": {
             "color": "#2a3f5f"
            },
            "marker": {
             "line": {
              "color": "#E5ECF6",
              "width": 0.5
             },
             "pattern": {
              "fillmode": "overlay",
              "size": 10,
              "solidity": 0.2
             }
            },
            "type": "bar"
           }
          ],
          "barpolar": [
           {
            "marker": {
             "line": {
              "color": "#E5ECF6",
              "width": 0.5
             },
             "pattern": {
              "fillmode": "overlay",
              "size": 10,
              "solidity": 0.2
             }
            },
            "type": "barpolar"
           }
          ],
          "carpet": [
           {
            "aaxis": {
             "endlinecolor": "#2a3f5f",
             "gridcolor": "white",
             "linecolor": "white",
             "minorgridcolor": "white",
             "startlinecolor": "#2a3f5f"
            },
            "baxis": {
             "endlinecolor": "#2a3f5f",
             "gridcolor": "white",
             "linecolor": "white",
             "minorgridcolor": "white",
             "startlinecolor": "#2a3f5f"
            },
            "type": "carpet"
           }
          ],
          "choropleth": [
           {
            "colorbar": {
             "outlinewidth": 0,
             "ticks": ""
            },
            "type": "choropleth"
           }
          ],
          "contour": [
           {
            "colorbar": {
             "outlinewidth": 0,
             "ticks": ""
            },
            "colorscale": [
             [
              0,
              "#0d0887"
             ],
             [
              0.1111111111111111,
              "#46039f"
             ],
             [
              0.2222222222222222,
              "#7201a8"
             ],
             [
              0.3333333333333333,
              "#9c179e"
             ],
             [
              0.4444444444444444,
              "#bd3786"
             ],
             [
              0.5555555555555556,
              "#d8576b"
             ],
             [
              0.6666666666666666,
              "#ed7953"
             ],
             [
              0.7777777777777778,
              "#fb9f3a"
             ],
             [
              0.8888888888888888,
              "#fdca26"
             ],
             [
              1,
              "#f0f921"
             ]
            ],
            "type": "contour"
           }
          ],
          "contourcarpet": [
           {
            "colorbar": {
             "outlinewidth": 0,
             "ticks": ""
            },
            "type": "contourcarpet"
           }
          ],
          "heatmap": [
           {
            "colorbar": {
             "outlinewidth": 0,
             "ticks": ""
            },
            "colorscale": [
             [
              0,
              "#0d0887"
             ],
             [
              0.1111111111111111,
              "#46039f"
             ],
             [
              0.2222222222222222,
              "#7201a8"
             ],
             [
              0.3333333333333333,
              "#9c179e"
             ],
             [
              0.4444444444444444,
              "#bd3786"
             ],
             [
              0.5555555555555556,
              "#d8576b"
             ],
             [
              0.6666666666666666,
              "#ed7953"
             ],
             [
              0.7777777777777778,
              "#fb9f3a"
             ],
             [
              0.8888888888888888,
              "#fdca26"
             ],
             [
              1,
              "#f0f921"
             ]
            ],
            "type": "heatmap"
           }
          ],
          "heatmapgl": [
           {
            "colorbar": {
             "outlinewidth": 0,
             "ticks": ""
            },
            "colorscale": [
             [
              0,
              "#0d0887"
             ],
             [
              0.1111111111111111,
              "#46039f"
             ],
             [
              0.2222222222222222,
              "#7201a8"
             ],
             [
              0.3333333333333333,
              "#9c179e"
             ],
             [
              0.4444444444444444,
              "#bd3786"
             ],
             [
              0.5555555555555556,
              "#d8576b"
             ],
             [
              0.6666666666666666,
              "#ed7953"
             ],
             [
              0.7777777777777778,
              "#fb9f3a"
             ],
             [
              0.8888888888888888,
              "#fdca26"
             ],
             [
              1,
              "#f0f921"
             ]
            ],
            "type": "heatmapgl"
           }
          ],
          "histogram": [
           {
            "marker": {
             "pattern": {
              "fillmode": "overlay",
              "size": 10,
              "solidity": 0.2
             }
            },
            "type": "histogram"
           }
          ],
          "histogram2d": [
           {
            "colorbar": {
             "outlinewidth": 0,
             "ticks": ""
            },
            "colorscale": [
             [
              0,
              "#0d0887"
             ],
             [
              0.1111111111111111,
              "#46039f"
             ],
             [
              0.2222222222222222,
              "#7201a8"
             ],
             [
              0.3333333333333333,
              "#9c179e"
             ],
             [
              0.4444444444444444,
              "#bd3786"
             ],
             [
              0.5555555555555556,
              "#d8576b"
             ],
             [
              0.6666666666666666,
              "#ed7953"
             ],
             [
              0.7777777777777778,
              "#fb9f3a"
             ],
             [
              0.8888888888888888,
              "#fdca26"
             ],
             [
              1,
              "#f0f921"
             ]
            ],
            "type": "histogram2d"
           }
          ],
          "histogram2dcontour": [
           {
            "colorbar": {
             "outlinewidth": 0,
             "ticks": ""
            },
            "colorscale": [
             [
              0,
              "#0d0887"
             ],
             [
              0.1111111111111111,
              "#46039f"
             ],
             [
              0.2222222222222222,
              "#7201a8"
             ],
             [
              0.3333333333333333,
              "#9c179e"
             ],
             [
              0.4444444444444444,
              "#bd3786"
             ],
             [
              0.5555555555555556,
              "#d8576b"
             ],
             [
              0.6666666666666666,
              "#ed7953"
             ],
             [
              0.7777777777777778,
              "#fb9f3a"
             ],
             [
              0.8888888888888888,
              "#fdca26"
             ],
             [
              1,
              "#f0f921"
             ]
            ],
            "type": "histogram2dcontour"
           }
          ],
          "mesh3d": [
           {
            "colorbar": {
             "outlinewidth": 0,
             "ticks": ""
            },
            "type": "mesh3d"
           }
          ],
          "parcoords": [
           {
            "line": {
             "colorbar": {
              "outlinewidth": 0,
              "ticks": ""
             }
            },
            "type": "parcoords"
           }
          ],
          "pie": [
           {
            "automargin": true,
            "type": "pie"
           }
          ],
          "scatter": [
           {
            "fillpattern": {
             "fillmode": "overlay",
             "size": 10,
             "solidity": 0.2
            },
            "type": "scatter"
           }
          ],
          "scatter3d": [
           {
            "line": {
             "colorbar": {
              "outlinewidth": 0,
              "ticks": ""
             }
            },
            "marker": {
             "colorbar": {
              "outlinewidth": 0,
              "ticks": ""
             }
            },
            "type": "scatter3d"
           }
          ],
          "scattercarpet": [
           {
            "marker": {
             "colorbar": {
              "outlinewidth": 0,
              "ticks": ""
             }
            },
            "type": "scattercarpet"
           }
          ],
          "scattergeo": [
           {
            "marker": {
             "colorbar": {
              "outlinewidth": 0,
              "ticks": ""
             }
            },
            "type": "scattergeo"
           }
          ],
          "scattergl": [
           {
            "marker": {
             "colorbar": {
              "outlinewidth": 0,
              "ticks": ""
             }
            },
            "type": "scattergl"
           }
          ],
          "scattermapbox": [
           {
            "marker": {
             "colorbar": {
              "outlinewidth": 0,
              "ticks": ""
             }
            },
            "type": "scattermapbox"
           }
          ],
          "scatterpolar": [
           {
            "marker": {
             "colorbar": {
              "outlinewidth": 0,
              "ticks": ""
             }
            },
            "type": "scatterpolar"
           }
          ],
          "scatterpolargl": [
           {
            "marker": {
             "colorbar": {
              "outlinewidth": 0,
              "ticks": ""
             }
            },
            "type": "scatterpolargl"
           }
          ],
          "scatterternary": [
           {
            "marker": {
             "colorbar": {
              "outlinewidth": 0,
              "ticks": ""
             }
            },
            "type": "scatterternary"
           }
          ],
          "surface": [
           {
            "colorbar": {
             "outlinewidth": 0,
             "ticks": ""
            },
            "colorscale": [
             [
              0,
              "#0d0887"
             ],
             [
              0.1111111111111111,
              "#46039f"
             ],
             [
              0.2222222222222222,
              "#7201a8"
             ],
             [
              0.3333333333333333,
              "#9c179e"
             ],
             [
              0.4444444444444444,
              "#bd3786"
             ],
             [
              0.5555555555555556,
              "#d8576b"
             ],
             [
              0.6666666666666666,
              "#ed7953"
             ],
             [
              0.7777777777777778,
              "#fb9f3a"
             ],
             [
              0.8888888888888888,
              "#fdca26"
             ],
             [
              1,
              "#f0f921"
             ]
            ],
            "type": "surface"
           }
          ],
          "table": [
           {
            "cells": {
             "fill": {
              "color": "#EBF0F8"
             },
             "line": {
              "color": "white"
             }
            },
            "header": {
             "fill": {
              "color": "#C8D4E3"
             },
             "line": {
              "color": "white"
             }
            },
            "type": "table"
           }
          ]
         },
         "layout": {
          "annotationdefaults": {
           "arrowcolor": "#2a3f5f",
           "arrowhead": 0,
           "arrowwidth": 1
          },
          "autotypenumbers": "strict",
          "coloraxis": {
           "colorbar": {
            "outlinewidth": 0,
            "ticks": ""
           }
          },
          "colorscale": {
           "diverging": [
            [
             0,
             "#8e0152"
            ],
            [
             0.1,
             "#c51b7d"
            ],
            [
             0.2,
             "#de77ae"
            ],
            [
             0.3,
             "#f1b6da"
            ],
            [
             0.4,
             "#fde0ef"
            ],
            [
             0.5,
             "#f7f7f7"
            ],
            [
             0.6,
             "#e6f5d0"
            ],
            [
             0.7,
             "#b8e186"
            ],
            [
             0.8,
             "#7fbc41"
            ],
            [
             0.9,
             "#4d9221"
            ],
            [
             1,
             "#276419"
            ]
           ],
           "sequential": [
            [
             0,
             "#0d0887"
            ],
            [
             0.1111111111111111,
             "#46039f"
            ],
            [
             0.2222222222222222,
             "#7201a8"
            ],
            [
             0.3333333333333333,
             "#9c179e"
            ],
            [
             0.4444444444444444,
             "#bd3786"
            ],
            [
             0.5555555555555556,
             "#d8576b"
            ],
            [
             0.6666666666666666,
             "#ed7953"
            ],
            [
             0.7777777777777778,
             "#fb9f3a"
            ],
            [
             0.8888888888888888,
             "#fdca26"
            ],
            [
             1,
             "#f0f921"
            ]
           ],
           "sequentialminus": [
            [
             0,
             "#0d0887"
            ],
            [
             0.1111111111111111,
             "#46039f"
            ],
            [
             0.2222222222222222,
             "#7201a8"
            ],
            [
             0.3333333333333333,
             "#9c179e"
            ],
            [
             0.4444444444444444,
             "#bd3786"
            ],
            [
             0.5555555555555556,
             "#d8576b"
            ],
            [
             0.6666666666666666,
             "#ed7953"
            ],
            [
             0.7777777777777778,
             "#fb9f3a"
            ],
            [
             0.8888888888888888,
             "#fdca26"
            ],
            [
             1,
             "#f0f921"
            ]
           ]
          },
          "colorway": [
           "#636efa",
           "#EF553B",
           "#00cc96",
           "#ab63fa",
           "#FFA15A",
           "#19d3f3",
           "#FF6692",
           "#B6E880",
           "#FF97FF",
           "#FECB52"
          ],
          "font": {
           "color": "#2a3f5f"
          },
          "geo": {
           "bgcolor": "white",
           "lakecolor": "white",
           "landcolor": "#E5ECF6",
           "showlakes": true,
           "showland": true,
           "subunitcolor": "white"
          },
          "hoverlabel": {
           "align": "left"
          },
          "hovermode": "closest",
          "mapbox": {
           "style": "light"
          },
          "paper_bgcolor": "white",
          "plot_bgcolor": "#E5ECF6",
          "polar": {
           "angularaxis": {
            "gridcolor": "white",
            "linecolor": "white",
            "ticks": ""
           },
           "bgcolor": "#E5ECF6",
           "radialaxis": {
            "gridcolor": "white",
            "linecolor": "white",
            "ticks": ""
           }
          },
          "scene": {
           "xaxis": {
            "backgroundcolor": "#E5ECF6",
            "gridcolor": "white",
            "gridwidth": 2,
            "linecolor": "white",
            "showbackground": true,
            "ticks": "",
            "zerolinecolor": "white"
           },
           "yaxis": {
            "backgroundcolor": "#E5ECF6",
            "gridcolor": "white",
            "gridwidth": 2,
            "linecolor": "white",
            "showbackground": true,
            "ticks": "",
            "zerolinecolor": "white"
           },
           "zaxis": {
            "backgroundcolor": "#E5ECF6",
            "gridcolor": "white",
            "gridwidth": 2,
            "linecolor": "white",
            "showbackground": true,
            "ticks": "",
            "zerolinecolor": "white"
           }
          },
          "shapedefaults": {
           "line": {
            "color": "#2a3f5f"
           }
          },
          "ternary": {
           "aaxis": {
            "gridcolor": "white",
            "linecolor": "white",
            "ticks": ""
           },
           "baxis": {
            "gridcolor": "white",
            "linecolor": "white",
            "ticks": ""
           },
           "bgcolor": "#E5ECF6",
           "caxis": {
            "gridcolor": "white",
            "linecolor": "white",
            "ticks": ""
           }
          },
          "title": {
           "x": 0.05
          },
          "xaxis": {
           "automargin": true,
           "gridcolor": "white",
           "linecolor": "white",
           "ticks": "",
           "title": {
            "standoff": 15
           },
           "zerolinecolor": "white",
           "zerolinewidth": 2
          },
          "yaxis": {
           "automargin": true,
           "gridcolor": "white",
           "linecolor": "white",
           "ticks": "",
           "title": {
            "standoff": 15
           },
           "zerolinecolor": "white",
           "zerolinewidth": 2
          }
         }
        },
        "title": {
         "text": "Loudness by Artist"
        },
        "xaxis": {
         "anchor": "y",
         "domain": [
          0,
          1
         ],
         "title": {
          "text": "Artist"
         }
        },
        "yaxis": {
         "anchor": "x",
         "domain": [
          0,
          1
         ],
         "title": {
          "text": "Loudness"
         }
        }
       }
      }
     },
     "metadata": {},
     "output_type": "display_data"
    }
   ],
   "source": [
    "top_artist = px.bar(x= spotify_df['artist'])\n",
    "top_artist.update_layout(\n",
    "    title='Number of songs by Artist',\n",
    "    xaxis_title='Artist',\n",
    "    yaxis_title='Number of songs'\n",
    "    )\n",
    "top_artist.show()\n",
    "\n",
    "show_energy = px.bar(x= spotify_df['artist'], y= spotify_df['energy'])\n",
    "show_energy.update_layout(\n",
    "    title= 'Energy by Artist',\n",
    "    xaxis_title='Artist',\n",
    "    yaxis_title = 'Energy'                    \n",
    ")\n",
    "show_energy.show()\n",
    "\n",
    "avg_loudnes= px.bar(spotify_df, x='artist', y= 'loudness')\n",
    "avg_loudnes.update_layout(\n",
    "    title= 'Loudness by Artist',\n",
    "    xaxis_title='Artist',\n",
    "    yaxis_title = 'Loudness'\n",
    ")\n",
    "avg_loudnes.show()"
   ]
  },
  {
   "attachments": {},
   "cell_type": "markdown",
   "metadata": {},
   "source": [
    "#### Conclusion"
   ]
  },
  {
   "attachments": {},
   "cell_type": "markdown",
   "metadata": {},
   "source": [
    "With the data we were able to collect, analyze and visualize above we were able to gain valuble information about my playlist and preferences. Refering back to the first bar chart we created: 'Number of songs by Artist', we were bale to determine that my the artist with themost songs on my playlist was The Weeknd. This information suggest that The Weeknd is one of if not my favorite artist. Considering this fact, if spotify were to recommend sings by artist similar to The Weeknd, I would likely have a higher chance of adding those songs. In the remainding charts we created titled 'Energy by Artist' and 'Loudness by Artist' respectively, we took a look at the audio feaures of the songs on my playlist in search of a correlation. Based on the charts, the artist with the highest energy, and loudness in their tracks have the most songs saved to my playlist. Like the information we learned from the 'Songs by Artist' chart, this information can be used to help recommend music and playlist that are geared towards my preferences."
   ]
  }
 ],
 "metadata": {
  "kernelspec": {
   "display_name": "Python 3",
   "language": "python",
   "name": "python3"
  },
  "language_info": {
   "codemirror_mode": {
    "name": "ipython",
    "version": 3
   },
   "file_extension": ".py",
   "mimetype": "text/x-python",
   "name": "python",
   "nbconvert_exporter": "python",
   "pygments_lexer": "ipython3",
   "version": "3.10.11"
  },
  "orig_nbformat": 4
 },
 "nbformat": 4,
 "nbformat_minor": 2
}
