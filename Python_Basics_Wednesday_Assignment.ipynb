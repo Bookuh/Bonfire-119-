{
 "cells": [
  {
   "attachments": {},
   "cell_type": "markdown",
   "metadata": {},
   "source": [
    "# Coding Temple's Data Analytics Program\n",
    "---\n",
    "## Python Basics Assignment 3\n",
    "---"
   ]
  },
  {
   "attachments": {},
   "cell_type": "markdown",
   "metadata": {},
   "source": [
    "### **Task 1: Build a Shopping Cart**\n",
    "**You can use either lists or dictionaries. The program should have the following capabilites:**\n",
    "* Takes a string as an input\n",
    "* Stores user input in a dictionary or list\n",
    "* Users should be able to:\n",
    "    * Add Items\n",
    "    * Delete Items\n",
    "    * See current shopping cart\n",
    "* The program should loop until user 'quits'\n",
    "* Upon quitting the program, print out all items in the user's list"
   ]
  },
  {
   "cell_type": "code",
   "execution_count": 19,
   "metadata": {},
   "outputs": [
    {
     "name": "stdout",
     "output_type": "stream",
     "text": [
      "['cups', 'plates', 'pizza']\n",
      "['cups', 'plates', 'pizza', 'corn']\n",
      "['cups', 'plates', 'pizza', 'corn', 'potatoes']\n",
      "['cups', 'plates', 'pizza']\n"
     ]
    },
    {
     "data": {
      "text/plain": [
       "['cups', 'plates', 'pizza', 'burgers', 'chicken']"
      ]
     },
     "execution_count": 19,
     "metadata": {},
     "output_type": "execute_result"
    }
   ],
   "source": [
    "cart_test = input(\"Enter item name to add to cart, 'del' to delete the last item in the cart, 'see' to see current cart or 'quit' to quit\")\n",
    "def shopping_cart(cart):\n",
    "    cart_list = []\n",
    "    while cart.lower() != 'quit':   \n",
    "        if cart.lower() == 'del':\n",
    "            cart_list.pop()\n",
    "        elif cart.lower() == 'see':\n",
    "            print(cart_list)\n",
    "        else:\n",
    "            cart_list.append(cart)\n",
    "      \n",
    "        cart = input(\"Enter item name to add to cart, 'del' to delete the last item in the cart, 'see' to see current cart or 'quit' to quit\")\n",
    "        \n",
    "    return cart_list \n",
    " \n",
    "        \n",
    "\n",
    "shopping_cart(cart_test)        "
   ]
  },
  {
   "attachments": {},
   "cell_type": "markdown",
   "metadata": {},
   "source": []
  },
  {
   "attachments": {},
   "cell_type": "markdown",
   "metadata": {},
   "source": [
    "### **Task 2: Create a Module and Import it**\n",
    "Create a Module in VS Code and import it into a Jupyter Notebook. \n",
    "\n",
    "**Your module should have the following capabilities:**\n",
    "* Has a function to calculate the square footage of a house\n",
    "* Has a function to calculate the circumference of a circle\n",
    "* Has a function to change feet to inches\n",
    "\n",
    "The program in Jupyter Notebook should take in user input and use the imported functions for their calculations!"
   ]
  },
  {
   "cell_type": "code",
   "execution_count": 6,
   "metadata": {},
   "outputs": [
    {
     "name": "stdout",
     "output_type": "stream",
     "text": [
      "144\n",
      "47.1\n",
      "2700\n"
     ]
    }
   ],
   "source": [
    "import week2\n",
    "print(week2.ft_to_inch(12))\n",
    "print(week2.cir(15))\n",
    "print(week2.square_ft(45,60))\n"
   ]
  },
  {
   "attachments": {},
   "cell_type": "markdown",
   "metadata": {},
   "source": [
    "### **Task 3.1: Lists**\n",
    "Create 4 lists. Two of these lists should be keys, two of these lists should be values"
   ]
  },
  {
   "cell_type": "code",
   "execution_count": null,
   "metadata": {},
   "outputs": [],
   "source": [
    "keys_1 = ['blue,', 'yellow', 'red']\n",
    "keys_2 = ['purple', 'orange', 'green']\n",
    "value_1 = ['primary 1', 'primary 2', 'primary 3']\n",
    "value_2 = ['secondary 1', 'secondary 2', 'secondary 3']"
   ]
  },
  {
   "attachments": {},
   "cell_type": "markdown",
   "metadata": {},
   "source": [
    "### **Task 3.2: Create a function that converts two lists into a dictionary, then merges two dictionaries into one.**\n",
    "\n",
    "Using your 4 lists, create a function which combines the keys lists with the values lists into a dictionary, then merges and returns the two dictionaries together."
   ]
  },
  {
   "cell_type": "code",
   "execution_count": 11,
   "metadata": {},
   "outputs": [
    {
     "data": {
      "text/plain": [
       "{'blue,': 'primary 1',\n",
       " 'yellow': 'primary 2',\n",
       " 'red': 'primary 3',\n",
       " 'purple': 'secondary 1',\n",
       " 'orange': 'secondary 2',\n",
       " 'green': 'secondary 3'}"
      ]
     },
     "execution_count": 11,
     "metadata": {},
     "output_type": "execute_result"
    }
   ],
   "source": [
    "def dic_maker(key1, value1, key2, value2):\n",
    "    dict_1 = {}\n",
    "    dict_2 = {}\n",
    "    for i in range(len(key1)):\n",
    "        dict_1[key1[i]] = value1[i]\n",
    "        dict_2[key2[i]] = value2[i]\n",
    "    return dict_1 | dict_2\n",
    "\n",
    "keys_1 = ['blue,', 'yellow', 'red']\n",
    "keys_2 = ['purple', 'orange', 'green']\n",
    "value_1 = ['primary 1', 'primary 2', 'primary 3']\n",
    "value_2 = ['secondary 1', 'secondary 2', 'secondary 3']\n",
    "\n",
    "dic_maker(keys_1, value_1, keys_2, value_2)"
   ]
  }
 ],
 "metadata": {
  "kernelspec": {
   "display_name": "Python 3",
   "language": "python",
   "name": "python3"
  },
  "language_info": {
   "codemirror_mode": {
    "name": "ipython",
    "version": 3
   },
   "file_extension": ".py",
   "mimetype": "text/x-python",
   "name": "python",
   "nbconvert_exporter": "python",
   "pygments_lexer": "ipython3",
   "version": "3.10.11"
  },
  "orig_nbformat": 4,
  "vscode": {
   "interpreter": {
    "hash": "26de051ba29f2982a8de78e945f0abaf191376122a1563185a90213a26c5da77"
   }
  }
 },
 "nbformat": 4,
 "nbformat_minor": 2
}
